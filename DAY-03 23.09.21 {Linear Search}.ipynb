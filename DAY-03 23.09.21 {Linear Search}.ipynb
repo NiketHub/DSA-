{
 "cells": [
  {
   "cell_type": "markdown",
   "id": "7badefe5",
   "metadata": {},
   "source": [
    "# Linear Search Algorithm"
   ]
  },
  {
   "cell_type": "code",
   "execution_count": 1,
   "id": "354940e6",
   "metadata": {},
   "outputs": [],
   "source": [
    "cars = [3, 2,7,6,9,1,4]"
   ]
  },
  {
   "cell_type": "code",
   "execution_count": 2,
   "id": "97c53fd5",
   "metadata": {},
   "outputs": [],
   "source": [
    "#search my car i.e, 4\n",
    "mycar = 4\n"
   ]
  },
  {
   "cell_type": "code",
   "execution_count": 9,
   "id": "2f952365",
   "metadata": {},
   "outputs": [
    {
     "name": "stdout",
     "output_type": "stream",
     "text": [
      "Car FOund\n"
     ]
    }
   ],
   "source": [
    "if cars[6] == mycar:\n",
    "    print(\"Car FOund\")\n",
    "else:\n",
    "    print(\"Car not Found\")\n",
    "#ony by one chck the index no. and lastly at 6th index position the car"
   ]
  },
  {
   "cell_type": "code",
   "execution_count": 10,
   "id": "e947c7ca",
   "metadata": {},
   "outputs": [
    {
     "name": "stdout",
     "output_type": "stream",
     "text": [
      "car not found\n",
      "car not found\n",
      "car not found\n",
      "car not found\n",
      "car not found\n",
      "car not found\n",
      "Found\n"
     ]
    }
   ],
   "source": [
    "#we can use LOOPS for this manual process they automatic go one by one and compare it\n",
    "for i  in cars:\n",
    "    if i == mycar:\n",
    "        print(\"Found\")\n",
    "        break\n",
    "    else:\n",
    "        print(\"car not found\")\n",
    "#these things they are doing  automatically one by one..!!"
   ]
  },
  {
   "cell_type": "code",
   "execution_count": 11,
   "id": "ddea3d28",
   "metadata": {},
   "outputs": [],
   "source": [
    "#they take 7 CPU time that is worst case -> O(7)"
   ]
  },
  {
   "cell_type": "code",
   "execution_count": 12,
   "id": "c2fe65fb",
   "metadata": {},
   "outputs": [],
   "source": [
    "mycar= 3\n"
   ]
  },
  {
   "cell_type": "code",
   "execution_count": 13,
   "id": "dedacee4",
   "metadata": {},
   "outputs": [
    {
     "name": "stdout",
     "output_type": "stream",
     "text": [
      "Got the CAR\n"
     ]
    }
   ],
   "source": [
    "for i in cars:\n",
    "    if i == mycar:\n",
    "        print(\"Got the CAR\")\n",
    "        break\n",
    "    else:\n",
    "        print(\"Car NOT THERE\")\n",
    "#they go one by one but they found their car in starting point then that is LUCKY 1 CPU time,\n",
    "#means BEST CASE -> Omega(1)"
   ]
  },
  {
   "cell_type": "markdown",
   "id": "6b9336dd",
   "metadata": {},
   "source": [
    "we have to do always searching, we want to do same code again and again if we run once all the code run so we can create a function of IT, when we call then they we execute.."
   ]
  },
  {
   "cell_type": "code",
   "execution_count": 14,
   "id": "8fe1c997",
   "metadata": {},
   "outputs": [],
   "source": [
    "cars = [3,2,7,6,9,1,4]"
   ]
  },
  {
   "cell_type": "code",
   "execution_count": 19,
   "id": "a01c3698",
   "metadata": {},
   "outputs": [],
   "source": [
    "def my_car_search():\n",
    "    mycar=9\n",
    "    \n",
    "    for i in cars:\n",
    "        if i == mycar:\n",
    "            print(\"FOUND\")\n",
    "            break\n",
    "    else:\n",
    "        print(\"NOT FOUND\")"
   ]
  },
  {
   "cell_type": "code",
   "execution_count": 21,
   "id": "ab5cc5c6",
   "metadata": {},
   "outputs": [
    {
     "name": "stdout",
     "output_type": "stream",
     "text": [
      "FOUND\n"
     ]
    }
   ],
   "source": [
    "my_car_search()\n",
    "#they run and search only car is there or not"
   ]
  },
  {
   "cell_type": "markdown",
   "id": "43641f67",
   "metadata": {},
   "source": [
    "Here, car numbers is fixed but the car number not always fixed we can use argument , parameter & make it dynamic type"
   ]
  },
  {
   "cell_type": "code",
   "execution_count": 22,
   "id": "dd21c659",
   "metadata": {},
   "outputs": [],
   "source": [
    "def my_car_search(current_car):\n",
    "    mycar=current_car\n",
    "    \n",
    "    for i in cars:\n",
    "        if i == mycar:\n",
    "            print(\"FOUND\")\n",
    "            break\n",
    "    else:\n",
    "        print(\"NOT FOUND\")"
   ]
  },
  {
   "cell_type": "code",
   "execution_count": 25,
   "id": "01df5205",
   "metadata": {},
   "outputs": [
    {
     "name": "stdout",
     "output_type": "stream",
     "text": [
      "NOT FOUND\n"
     ]
    }
   ],
   "source": [
    "my_car_search(8)\n",
    "#Now, we need to tell only the car number they will go and search"
   ]
  },
  {
   "cell_type": "markdown",
   "id": "4de1d82d",
   "metadata": {},
   "source": [
    "# Now we have two parking-lot in a mall"
   ]
  },
  {
   "cell_type": "code",
   "execution_count": 27,
   "id": "a7ed2eea",
   "metadata": {},
   "outputs": [],
   "source": [
    "cars= [ 4,3,2,7,6,9,1,4]\n",
    "cars1 = [3,65,78,86,9,997,98]\n",
    "#now two parking lot make it little dkynamic "
   ]
  },
  {
   "cell_type": "code",
   "execution_count": 31,
   "id": "cff8381d",
   "metadata": {},
   "outputs": [],
   "source": [
    "def my_car_search(current_parking, current_car):\n",
    "    mycar= current_car\n",
    "    \n",
    "    for i in current_parking:\n",
    "        if i == mycar:\n",
    "            print(\"Found\")\n",
    "            break\n",
    "        else:\n",
    "            print(\"NOt Found\")\n",
    "#current_parking is a variable kuch v dal do wo pass ho jaega yha argument se"
   ]
  },
  {
   "cell_type": "code",
   "execution_count": 33,
   "id": "11fb6ea9",
   "metadata": {},
   "outputs": [
    {
     "name": "stdout",
     "output_type": "stream",
     "text": [
      "NOt Found\n",
      "NOt Found\n",
      "NOt Found\n",
      "NOt Found\n",
      "NOt Found\n",
      "Found\n"
     ]
    }
   ],
   "source": [
    "my_car_search(cars1, 997)\n",
    "#(Parking name, car number)"
   ]
  },
  {
   "cell_type": "code",
   "execution_count": 34,
   "id": "93ca2b5d",
   "metadata": {},
   "outputs": [],
   "source": [
    "#if we add one more car parking \n",
    "cars3= [ 90,70,80,60,885,695,480,523]"
   ]
  },
  {
   "cell_type": "code",
   "execution_count": 38,
   "id": "b3970882",
   "metadata": {},
   "outputs": [
    {
     "name": "stdout",
     "output_type": "stream",
     "text": [
      "Found\n"
     ]
    }
   ],
   "source": [
    "my_car_search(cars3, 90)"
   ]
  },
  {
   "cell_type": "code",
   "execution_count": null,
   "id": "633c0996",
   "metadata": {},
   "outputs": [],
   "source": []
  }
 ],
 "metadata": {
  "kernelspec": {
   "display_name": "Python 3",
   "language": "python",
   "name": "python3"
  },
  "language_info": {
   "codemirror_mode": {
    "name": "ipython",
    "version": 3
   },
   "file_extension": ".py",
   "mimetype": "text/x-python",
   "name": "python",
   "nbconvert_exporter": "python",
   "pygments_lexer": "ipython3",
   "version": "3.8.8"
  }
 },
 "nbformat": 4,
 "nbformat_minor": 5
}
