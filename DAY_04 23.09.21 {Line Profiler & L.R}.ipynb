{
 "cells": [
  {
   "cell_type": "markdown",
   "id": "c7352081",
   "metadata": {
    "id": "c7352081"
   },
   "source": [
    "# TOOLS TO ANALYZE OUR ALGORITHM"
   ]
  },
  {
   "cell_type": "code",
   "execution_count": 2,
   "id": "0d6ff243",
   "metadata": {
    "colab": {
     "base_uri": "https://localhost:8080/"
    },
    "id": "0d6ff243",
    "outputId": "2b43fba4-29f6-4b1b-9cef-bbf39958ad7f"
   },
   "outputs": [
    {
     "name": "stdout",
     "output_type": "stream",
     "text": [
      "0\n",
      "1\n",
      "2\n",
      "3\n",
      "4\n",
      "5\n",
      "6\n",
      "7\n",
      "8\n",
      "9\n"
     ]
    }
   ],
   "source": [
    "for i in range(10):\n",
    "    print(i)"
   ]
  },
  {
   "cell_type": "code",
   "execution_count": 3,
   "id": "4f4defad",
   "metadata": {
    "colab": {
     "base_uri": "https://localhost:8080/"
    },
    "id": "4f4defad",
    "outputId": "0d5d5021-37ef-4a45-ab03-ba3b1ef7d274"
   },
   "outputs": [
    {
     "name": "stdout",
     "output_type": "stream",
     "text": [
      "0\n",
      "1\n",
      "2\n",
      "3\n",
      "4\n",
      "5\n",
      "6\n",
      "7\n",
      "8\n",
      "9\n"
     ]
    }
   ],
   "source": [
    "def lw():\n",
    "    for i in range(10):\n",
    "        print(i)\n",
    "lw()\n",
    "#here  10 times they run the code 10 statement runs and the time will 10 CPU unit time"
   ]
  },
  {
   "cell_type": "code",
   "execution_count": 4,
   "id": "05a07bcb",
   "metadata": {
    "colab": {
     "base_uri": "https://localhost:8080/"
    },
    "id": "05a07bcb",
    "outputId": "e85c5d76-f5d1-4f70-d003-e8453dbd53bb"
   },
   "outputs": [
    {
     "name": "stdout",
     "output_type": "stream",
     "text": [
      "0\n",
      "1\n",
      "2\n",
      "3\n",
      "4\n"
     ]
    }
   ],
   "source": [
    "def r(s):\n",
    "    for i in range(s):\n",
    "        print(i)\n",
    "r(5)\n",
    "#now we dont know how much data we use we don't know the size of input it may be 1 or 1000000\n",
    "#Google search engine don't know how many searches we do in a single second.\n",
    "#so whatever we create a program it must be scalable we give input as per our need but the time will same performance same"
   ]
  },
  {
   "cell_type": "markdown",
   "id": "9a5a2633",
   "metadata": {
    "id": "9a5a2633"
   },
   "source": [
    "-> We don't know how much resources they need\n",
    "-> We don't know how much input we provide but need same performance\n",
    "-> We need to check line by line that help us to analyze the algo line by line\n",
    "-> We can optimize the algo if we analyze it"
   ]
  },
  {
   "cell_type": "markdown",
   "id": "15ebbf35",
   "metadata": {
    "id": "15ebbf35"
   },
   "source": [
    "We have some APM { Appication Monitoring TOOLS }"
   ]
  },
  {
   "cell_type": "code",
   "execution_count": 5,
   "id": "9b70fbaf",
   "metadata": {
    "id": "9b70fbaf"
   },
   "outputs": [],
   "source": [
    "#In python we have LINE PROFILER\n",
    "#pip install line_profiler\n",
    "%load_ext line_profiler"
   ]
  },
  {
   "cell_type": "code",
   "execution_count": 6,
   "id": "e24ee2d4",
   "metadata": {
    "colab": {
     "base_uri": "https://localhost:8080/"
    },
    "id": "e24ee2d4",
    "outputId": "af47a817-9281-42ce-9931-43611b235d6f"
   },
   "outputs": [
    {
     "name": "stdout",
     "output_type": "stream",
     "text": [
      "0\n",
      "1\n",
      "2\n",
      "3\n",
      "4\n",
      "5\n",
      "6\n",
      "7\n",
      "8\n",
      "9\n"
     ]
    }
   ],
   "source": [
    "%lprun r(10)"
   ]
  },
  {
   "cell_type": "code",
   "execution_count": 25,
   "id": "zrqjREKtEe-K",
   "metadata": {
    "colab": {
     "base_uri": "https://localhost:8080/"
    },
    "id": "zrqjREKtEe-K",
    "outputId": "1ff57b2f-79d2-4d12-8a2a-0aae918758a8"
   },
   "outputs": [
    {
     "name": "stdout",
     "output_type": "stream",
     "text": [
      "0\n",
      "1\n",
      "2\n",
      "3\n",
      "4\n"
     ]
    }
   ],
   "source": [
    "%lprun -f r r(5)\n",
    "#6 time loop run 5 time condition staisfied 1 time failed\n",
    "#5 time they print the output"
   ]
  },
  {
   "cell_type": "code",
   "execution_count": 10,
   "id": "8UtQsvaPEwtA",
   "metadata": {
    "id": "8UtQsvaPEwtA"
   },
   "outputs": [],
   "source": [
    "import math"
   ]
  },
  {
   "cell_type": "code",
   "execution_count": 11,
   "id": "4YkkKLXNFk3l",
   "metadata": {
    "id": "4YkkKLXNFk3l"
   },
   "outputs": [],
   "source": [
    "y = 6.7"
   ]
  },
  {
   "cell_type": "code",
   "execution_count": 12,
   "id": "2s0dEiN9FnjZ",
   "metadata": {
    "colab": {
     "base_uri": "https://localhost:8080/"
    },
    "id": "2s0dEiN9FnjZ",
    "outputId": "5c93f5bc-4d2c-4bea-c7ac-bce3c666d668"
   },
   "outputs": [
    {
     "data": {
      "text/plain": [
       "7"
      ]
     },
     "execution_count": 12,
     "metadata": {},
     "output_type": "execute_result"
    }
   ],
   "source": [
    "math.ceil(y)\n",
    "#upside"
   ]
  },
  {
   "cell_type": "code",
   "execution_count": 13,
   "id": "sgt6ybROFpg7",
   "metadata": {
    "colab": {
     "base_uri": "https://localhost:8080/"
    },
    "id": "sgt6ybROFpg7",
    "outputId": "13f09e8e-b507-4bdb-b488-dfab09bc7389"
   },
   "outputs": [
    {
     "data": {
      "text/plain": [
       "6"
      ]
     },
     "execution_count": 13,
     "metadata": {},
     "output_type": "execute_result"
    }
   ],
   "source": [
    "math.floor(y)\n",
    "#down-side"
   ]
  },
  {
   "cell_type": "code",
   "execution_count": 14,
   "id": "84JV5oakFt5r",
   "metadata": {
    "colab": {
     "base_uri": "https://localhost:8080/"
    },
    "id": "84JV5oakFt5r",
    "outputId": "0a1034b3-27dc-4008-a9ed-4f7030ccced7"
   },
   "outputs": [
    {
     "data": {
      "text/plain": [
       "3.0"
      ]
     },
     "execution_count": 14,
     "metadata": {},
     "output_type": "execute_result"
    }
   ],
   "source": [
    "math.log(8,2)"
   ]
  },
  {
   "cell_type": "code",
   "execution_count": 15,
   "id": "PcwB-vOnGLRE",
   "metadata": {
    "colab": {
     "base_uri": "https://localhost:8080/"
    },
    "id": "PcwB-vOnGLRE",
    "outputId": "b2f0f079-252a-430b-b321-3f7d1e0364f2"
   },
   "outputs": [
    {
     "data": {
      "text/plain": [
       "2.0"
      ]
     },
     "execution_count": 15,
     "metadata": {},
     "output_type": "execute_result"
    }
   ],
   "source": [
    "math.log(9,3)"
   ]
  },
  {
   "cell_type": "code",
   "execution_count": 27,
   "id": "w16AKs7QGPc_",
   "metadata": {
    "id": "w16AKs7QGPc_"
   },
   "outputs": [],
   "source": [
    "#while searching we want to know index number of the car"
   ]
  },
  {
   "cell_type": "markdown",
   "id": "714dfb5e",
   "metadata": {},
   "source": [
    "Check at which positoin/parking slot this car number is available"
   ]
  },
  {
   "cell_type": "code",
   "execution_count": 17,
   "id": "IExYP6fkGqep",
   "metadata": {
    "id": "IExYP6fkGqep"
   },
   "outputs": [],
   "source": [
    "cars= [4,3,2,7,6,9,1]"
   ]
  },
  {
   "cell_type": "code",
   "execution_count": 18,
   "id": "r2imTkFPGuJo",
   "metadata": {
    "colab": {
     "base_uri": "https://localhost:8080/"
    },
    "id": "r2imTkFPGuJo",
    "outputId": "0a649e8a-e4d2-42c5-ad42-39465756aaa8"
   },
   "outputs": [
    {
     "data": {
      "text/plain": [
       "7"
      ]
     },
     "execution_count": 18,
     "metadata": {},
     "output_type": "execute_result"
    }
   ],
   "source": [
    "len(cars) #Total cars we have"
   ]
  },
  {
   "cell_type": "code",
   "execution_count": 19,
   "id": "wJGa80KmGvm6",
   "metadata": {
    "colab": {
     "base_uri": "https://localhost:8080/"
    },
    "id": "wJGa80KmGvm6",
    "outputId": "40d5147b-eedd-4284-c5b2-61029378d3ba"
   },
   "outputs": [
    {
     "data": {
      "text/plain": [
       "range(0, 7)"
      ]
     },
     "execution_count": 19,
     "metadata": {},
     "output_type": "execute_result"
    }
   ],
   "source": [
    "range(len(cars)) #They give the range of car number {0--7}"
   ]
  },
  {
   "cell_type": "code",
   "execution_count": 20,
   "id": "TA7h6fiBGyt7",
   "metadata": {
    "colab": {
     "base_uri": "https://localhost:8080/"
    },
    "id": "TA7h6fiBGyt7",
    "outputId": "167da029-0f03-4018-def9-cfe6195f2d1c"
   },
   "outputs": [
    {
     "data": {
      "text/plain": [
       "[0, 1, 2, 3, 4, 5, 6]"
      ]
     },
     "execution_count": 20,
     "metadata": {},
     "output_type": "execute_result"
    }
   ],
   "source": [
    "list(range(len(cars))) #convert range to list \n",
    "#Now store position somewhere"
   ]
  },
  {
   "cell_type": "code",
   "execution_count": 21,
   "id": "-Czfp2kTG13d",
   "metadata": {
    "id": "-Czfp2kTG13d"
   },
   "outputs": [],
   "source": [
    "mypos= list(range(len(cars)))\n",
    "#We know the position bcz we print the position"
   ]
  },
  {
   "cell_type": "code",
   "execution_count": 28,
   "id": "62a76a6d",
   "metadata": {},
   "outputs": [
    {
     "data": {
      "text/plain": [
       "[0, 1, 2, 3, 4, 5, 6]"
      ]
     },
     "execution_count": 28,
     "metadata": {},
     "output_type": "execute_result"
    }
   ],
   "source": [
    "mypos #contains the postion of all the cars"
   ]
  },
  {
   "cell_type": "code",
   "execution_count": 29,
   "id": "hzokqUmjG885",
   "metadata": {
    "colab": {
     "base_uri": "https://localhost:8080/"
    },
    "id": "hzokqUmjG885",
    "outputId": "0634e23a-3f8c-40bd-e7b5-6ab04790df1c"
   },
   "outputs": [
    {
     "data": {
      "text/plain": [
       "1"
      ]
     },
     "execution_count": 29,
     "metadata": {},
     "output_type": "execute_result"
    }
   ],
   "source": [
    "mypos[1] #they tell at a position 1 we have value 1"
   ]
  },
  {
   "cell_type": "code",
   "execution_count": 30,
   "id": "xCltNBIeHAt7",
   "metadata": {
    "colab": {
     "base_uri": "https://localhost:8080/"
    },
    "id": "xCltNBIeHAt7",
    "outputId": "69991057-9417-4b2f-dd41-b3a2ef210f89"
   },
   "outputs": [
    {
     "data": {
      "text/plain": [
       "6"
      ]
     },
     "execution_count": 30,
     "metadata": {},
     "output_type": "execute_result"
    }
   ],
   "source": [
    "#Now find the which car is available at position number 4\n",
    "cars[mypos[4]]"
   ]
  },
  {
   "cell_type": "code",
   "execution_count": 38,
   "id": "f11f064a",
   "metadata": {},
   "outputs": [],
   "source": [
    "cars= [4,3,2,7,6,9,1]"
   ]
  },
  {
   "cell_type": "markdown",
   "id": "b2565c0c",
   "metadata": {
    "id": "vrO_9sNgHPjO"
   },
   "source": [
    "Put this concept into loops we want to print car number with the position"
   ]
  },
  {
   "cell_type": "code",
   "execution_count": 39,
   "id": "eeba3bb6",
   "metadata": {},
   "outputs": [
    {
     "name": "stdout",
     "output_type": "stream",
     "text": [
      "0\n",
      "1\n",
      "2\n",
      "3\n",
      "4\n",
      "5\n",
      "6\n"
     ]
    }
   ],
   "source": [
    "for i in list(range(len(cars))):\n",
    "    print(i)\n",
    "#print entire postion this is done by FOR LOOP, they show the position"
   ]
  },
  {
   "cell_type": "markdown",
   "id": "06225166",
   "metadata": {},
   "source": [
    "For Loop is retriving the car number from the index number\n",
    "Output will same if we do previous algo method but the thing is they are retriving the output from the \n",
    "INDEX number i.e, position of the CAR"
   ]
  },
  {
   "cell_type": "code",
   "execution_count": 54,
   "id": "f5c7963d",
   "metadata": {},
   "outputs": [],
   "source": [
    "def my_car_search(current_parking, current_car):\n",
    "    mycar= current_car\n",
    "    for i in list(range(len(current_parking))):\n",
    "        if current_parking [i] == mycar:\n",
    "            print(\"FOUND THE CAR AT: \", i) \n",
    "            break\n",
    "#         else:\n",
    "#             print(\"NOT FOUND\")"
   ]
  },
  {
   "cell_type": "code",
   "execution_count": 58,
   "id": "b917419e",
   "metadata": {},
   "outputs": [
    {
     "name": "stdout",
     "output_type": "stream",
     "text": [
      "FOUND THE CAR AT:  1\n"
     ]
    }
   ],
   "source": [
    "#Created Function for Linear Search\n",
    "my_car_search(cars, 3)"
   ]
  },
  {
   "cell_type": "markdown",
   "id": "996bb147",
   "metadata": {},
   "source": [
    "Now we can Anazlyze the code : Line Profiling"
   ]
  },
  {
   "cell_type": "code",
   "execution_count": 59,
   "id": "e72b1043",
   "metadata": {},
   "outputs": [
    {
     "name": "stdout",
     "output_type": "stream",
     "text": [
      "The line_profiler extension is already loaded. To reload it, use:\n",
      "  %reload_ext line_profiler\n"
     ]
    }
   ],
   "source": [
    "%load_ext line_profiler"
   ]
  },
  {
   "cell_type": "code",
   "execution_count": 63,
   "id": "58246e48",
   "metadata": {},
   "outputs": [],
   "source": [
    "%lprun -f my_car_search my_car_search(cars,47851)\n",
    "#7 : means total 7 car we have then, it will go one by one total 7.."
   ]
  },
  {
   "cell_type": "code",
   "execution_count": null,
   "id": "6e07ab0c",
   "metadata": {},
   "outputs": [],
   "source": []
  }
 ],
 "metadata": {
  "colab": {
   "collapsed_sections": [],
   "name": "DAY_04 23.09.21.ipynb",
   "provenance": []
  },
  "kernelspec": {
   "display_name": "Python 3",
   "language": "python",
   "name": "python3"
  },
  "language_info": {
   "codemirror_mode": {
    "name": "ipython",
    "version": 3
   },
   "file_extension": ".py",
   "mimetype": "text/x-python",
   "name": "python",
   "nbconvert_exporter": "python",
   "pygments_lexer": "ipython3",
   "version": "3.8.8"
  }
 },
 "nbformat": 4,
 "nbformat_minor": 5
}
