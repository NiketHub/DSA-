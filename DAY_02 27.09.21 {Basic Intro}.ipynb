{
 "cells": [
  {
   "cell_type": "code",
   "execution_count": 2,
   "id": "4f833fcd",
   "metadata": {},
   "outputs": [],
   "source": [
    "#function = Algo \n",
    "#time : CPU : 4 CPU time/unit\n",
    "def maggi():\n",
    "    print(\"Boil\")\n",
    "    print(\"Put Maggi\")\n",
    "    print(\"Maggi masala\")\n",
    "    print(\"eat\")"
   ]
  },
  {
   "cell_type": "code",
   "execution_count": 3,
   "id": "cd541675",
   "metadata": {},
   "outputs": [
    {
     "name": "stdout",
     "output_type": "stream",
     "text": [
      "Boil\n",
      "Put Maggi\n",
      "Maggi masala\n"
     ]
    }
   ],
   "source": [
    "maggi()"
   ]
  },
  {
   "cell_type": "code",
   "execution_count": 4,
   "id": "4f2d0fde",
   "metadata": {},
   "outputs": [],
   "source": [
    "#searching = Operation\n",
    "# If we have database of roll  number in ECE { 2 , 5, 7 ,8 ,10 ,5, 58, 50} (searching for  50)\n",
    "#n -> Noumber of items"
   ]
  },
  {
   "cell_type": "code",
   "execution_count": 5,
   "id": "fa036fc5",
   "metadata": {},
   "outputs": [],
   "source": [
    "#create a function for sms\n",
    "#CPU time : 3 SEC : COnstant Time\n",
    "def sms():\n",
    "    print(\"LW\") #1 sec = 1 CPU time\n",
    "    print(\"MSG\") #1 sec = 1 CPU time\n",
    "    print(\"111\") #1 sec = 1 CPU time"
   ]
  },
  {
   "cell_type": "code",
   "execution_count": 6,
   "id": "1cd6aab3",
   "metadata": {},
   "outputs": [
    {
     "name": "stdout",
     "output_type": "stream",
     "text": [
      "LW\n",
      "MSG\n",
      "111\n"
     ]
    }
   ],
   "source": [
    "#constant/static type of code everything is fixed\n",
    "\n",
    "sms()"
   ]
  },
  {
   "cell_type": "code",
   "execution_count": 7,
   "id": "357ad849",
   "metadata": {},
   "outputs": [],
   "source": [
    "#we want to send the sms we have the database if students\n",
    "db= [ 10,20,30,40,50,60,70,80] #we don't know about the number how many comes in future { n - no. of items}\n",
    "#algo : n+1+1 => n+2 => \n",
    "def sms(list):\n",
    "    print(\"LW INDIA\") #1 CPU TIME\n",
    "    print(\"SMS\") #1 CPU TIME\n",
    "    for mob in list: #CPU TIME : n\n",
    "        print(mob)"
   ]
  },
  {
   "cell_type": "code",
   "execution_count": 9,
   "id": "f37cda77",
   "metadata": {},
   "outputs": [
    {
     "data": {
      "text/plain": [
       "[10, 20, 30, 40, 50, 60, 70, 80]"
      ]
     },
     "execution_count": 9,
     "metadata": {},
     "output_type": "execute_result"
    }
   ],
   "source": [
    "sms(db)"
   ]
  },
  {
   "cell_type": "code",
   "execution_count": null,
   "id": "48567c36",
   "metadata": {},
   "outputs": [],
   "source": [
    "#asymptotic analysis have some algo O(n) => O(n+2) => O(n) we can neglet 2 constant\n",
    "#1 Sec => O(1)"
   ]
  },
  {
   "cell_type": "code",
   "execution_count": null,
   "id": "0dc79f4d",
   "metadata": {},
   "outputs": [],
   "source": [
    "# asy ansl\n",
    "# function : algo :  O(n + 1 + 1 ) = O(n+2) = O(n)\n",
    "# neglect constant \n",
    "def send_sms(mylist):\n",
    "    print(\"lw\")   # cpu : O(1) : constant time\n",
    "    print(\"msg\")  # O(1) : constant time \n",
    "    for mob in mylist: print(mob) # cpu time : O(n) : linear time:  order/degree of n"
   ]
  }
 ],
 "metadata": {
  "kernelspec": {
   "display_name": "Python 3",
   "language": "python",
   "name": "python3"
  },
  "language_info": {
   "codemirror_mode": {
    "name": "ipython",
    "version": 3
   },
   "file_extension": ".py",
   "mimetype": "text/x-python",
   "name": "python",
   "nbconvert_exporter": "python",
   "pygments_lexer": "ipython3",
   "version": "3.8.8"
  }
 },
 "nbformat": 4,
 "nbformat_minor": 5
}
